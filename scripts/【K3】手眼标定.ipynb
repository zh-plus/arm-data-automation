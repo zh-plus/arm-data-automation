{
 "cells": [
  {
   "cell_type": "markdown",
   "id": "562059cb-a607-4b25-95c3-3f1f601ac569",
   "metadata": {},
   "source": [
    "# 手眼标定\n",
    "\n",
    "同济子豪兄 2024-5-13\n",
    "\n",
    "## 手眼标定的原理\n",
    "\n",
    "已知图像上两个点的【像素坐标】和【机械臂坐标】，就可以通过【线性插值】，建立像素坐标到机械臂坐标的映射关系。输入图像任意一点的像素坐标，eye2hand函数就能转换为机械臂坐标。让机械臂移动到图像上的同一个位置。\n",
    "\n",
    "在utils_robot.py里修改eye2hand函数，填好八个数字坐标。"
   ]
  },
  {
   "cell_type": "markdown",
   "id": "ac9fcc38-af22-4667-b1d1-a7408af011b1",
   "metadata": {},
   "source": [
    "## 导入工具包"
   ]
  },
  {
   "cell_type": "code",
   "id": "e2060a44-ece4-4b3b-abc4-6096be080223",
   "metadata": {
    "ExecuteTime": {
     "end_time": "2024-11-13T13:15:02.659916Z",
     "start_time": "2024-11-13T13:15:02.289614Z"
    }
   },
   "source": [
    "from pymycobot import MyCobot280Socket\n",
    "import time\n",
    "\n",
    "import cv2\n",
    "import numpy as np\n",
    "\n",
    "import matplotlib.pyplot as plt\n",
    "%matplotlib inline"
   ],
   "outputs": [],
   "execution_count": 1
  },
  {
   "cell_type": "markdown",
   "id": "4d36547f-06a3-423a-91a8-f1d84bdd6dae",
   "metadata": {},
   "source": [
    "## 连接机械臂"
   ]
  },
  {
   "cell_type": "code",
   "id": "5e665862-db0e-42a9-b26b-2cdbf614b5ac",
   "metadata": {
    "ExecuteTime": {
     "end_time": "2024-11-13T13:15:04.410284Z",
     "start_time": "2024-11-13T13:15:04.405306Z"
    }
   },
   "source": "mc = MyCobot280Socket(\"192.168.31.175\", 9000)",
   "outputs": [],
   "execution_count": 2
  },
  {
   "cell_type": "markdown",
   "id": "e5f4534f-13cc-43a2-b7b4-15d0bd5d3031",
   "metadata": {},
   "source": [
    "## 设置运动模式为插补"
   ]
  },
  {
   "cell_type": "code",
   "id": "6e9cf1b3-2d0f-4e6e-8174-62e7113b787b",
   "metadata": {
    "ExecuteTime": {
     "end_time": "2024-11-13T13:15:07.255586Z",
     "start_time": "2024-11-13T13:15:05.902122Z"
    }
   },
   "source": [
    "mc.set_fresh_mode(0)\n",
    "print(mc.get_fresh_mode())"
   ],
   "outputs": [
    {
     "name": "stdout",
     "output_type": "stream",
     "text": [
      "0\n"
     ]
    }
   ],
   "execution_count": 3
  },
  {
   "cell_type": "markdown",
   "id": "fc66a1ad-67bd-43ff-aa79-f011255b0bcd",
   "metadata": {},
   "source": [
    "## 机械臂归零"
   ]
  },
  {
   "cell_type": "code",
   "id": "bd804f52-710b-4003-9a84-8d0355bff012",
   "metadata": {
    "ExecuteTime": {
     "end_time": "2024-11-13T12:50:08.984139Z",
     "start_time": "2024-11-13T12:50:08.052551Z"
    }
   },
   "source": "mc.send_angles([0, 0, 0, 0, 0, 0], 40)",
   "outputs": [
    {
     "data": {
      "text/plain": [
       "-1"
      ]
     },
     "execution_count": 29,
     "metadata": {},
     "output_type": "execute_result"
    }
   ],
   "execution_count": 29
  },
  {
   "attachments": {},
   "cell_type": "markdown",
   "id": "4d62707b-f9d3-4934-99cf-107074a4553c",
   "metadata": {},
   "source": [
    "## 第一步：移动至俯视姿态\n",
    "\n",
    "俯视姿态一（关节）：[0, 0, -88, 0, 0, 45]\n",
    "\n",
    "俯视姿态二（坐标）：[13, -160, 212, 180, 3.31, -135.81]\n",
    "\n",
    "俯视姿态二（关节）：[-62.13, 8.96, -87.71, -14.41, 2.54, -16.34]"
   ]
  },
  {
   "cell_type": "code",
   "id": "964562be-f96c-49d2-a075-e6121035cc4c",
   "metadata": {
    "ExecuteTime": {
     "end_time": "2024-11-13T11:25:37.705054Z",
     "start_time": "2024-11-13T11:25:36.762029Z"
    }
   },
   "source": [
    "# mc.send_coords([13, -160, 212, 180, 3.31, -135.81], 10)\n",
    "\n",
    "mc.send_angles([-90, 0, -90, 0, 0, 45], 30)"
   ],
   "outputs": [
    {
     "data": {
      "text/plain": [
       "-1"
      ]
     },
     "execution_count": 18,
     "metadata": {},
     "output_type": "execute_result"
    }
   ],
   "execution_count": 18
  },
  {
   "cell_type": "code",
   "id": "0d31eb93-ff2f-45a1-ac0e-1b3fcfa167c1",
   "metadata": {
    "ExecuteTime": {
     "end_time": "2024-11-13T08:42:14.801160Z",
     "start_time": "2024-11-13T08:42:14.786258Z"
    }
   },
   "source": "print(mc.get_angles())",
   "outputs": [
    {
     "name": "stdout",
     "output_type": "stream",
     "text": [
      "[-62.05, 8.43, -90.35, -12.56, 2.81, -15.55]\n"
     ]
    }
   ],
   "execution_count": 17
  },
  {
   "cell_type": "code",
   "id": "53731c82-dde4-4cf6-a30c-409b49050423",
   "metadata": {
    "ExecuteTime": {
     "end_time": "2024-11-13T11:28:07.646369Z",
     "start_time": "2024-11-13T11:28:07.643732Z"
    }
   },
   "source": [
    "# mc.send_angles([-62.13, 8.96, -87.71, -10.41, 2.54, -16.34], 10)\n",
    "\n",
    "# mc.send_coord(1, 25, 20)\n",
    "\n",
    "mc.send_angles([-79.1, -3.33, -84.28, 0, 1.49, -33.48], 20)"
   ],
   "outputs": [],
   "execution_count": 24
  },
  {
   "cell_type": "markdown",
   "id": "ebadf824-9b6e-4b1a-9b2a-36a6a485a517",
   "metadata": {},
   "source": [
    "## 第二步：在白纸靠左下角的位置，画一个标定点\n",
    "\n",
    "## 第三步：运行check_camera.py，打开摄像头实时画面\n",
    "\n",
    "## 第四步：把白纸右上角对准画面右上角\n",
    "\n",
    "## 第五步：白纸上边与底座、图像上边平齐，白纸下边与图像下边平齐\n",
    "\n",
    "## 第六步：用夹子固定白纸，分别夹左上角和右下角。（把麦克风线也固定）\n",
    "\n",
    "## 第七步：通过鼠标点选，获取白纸左下角标定点，在图像上的像素坐标"
   ]
  },
  {
   "cell_type": "code",
   "id": "02a21378-1574-414d-a878-53906d21d663",
   "metadata": {
    "ExecuteTime": {
     "end_time": "2024-11-13T08:48:37.330409Z",
     "start_time": "2024-11-13T08:48:37.327993Z"
    }
   },
   "source": [
    "# 第一个标定点的像素坐标\n",
    "cali_1_im = [63, 409]"
   ],
   "outputs": [],
   "execution_count": 35
  },
  {
   "cell_type": "markdown",
   "id": "1ded7260-bcba-4e61-8dc4-570a54034e9d",
   "metadata": {},
   "source": [
    "## 第八步：控制机械臂，移动至左下角第一个标定点"
   ]
  },
  {
   "cell_type": "code",
   "id": "56dd19d8-c8d0-4b62-b603-34b9f3b83730",
   "metadata": {
    "ExecuteTime": {
     "end_time": "2024-11-13T08:49:50.479567Z",
     "start_time": "2024-11-13T08:49:48.545542Z"
    }
   },
   "source": [
    "# 移动到标定点附近\n",
    "mc.send_coords([130, -70, 94.7, 178.92, 4.56, -135.57], 10)\n",
    "time.sleep(1)"
   ],
   "outputs": [],
   "execution_count": 44
  },
  {
   "metadata": {
    "ExecuteTime": {
     "end_time": "2024-11-13T11:21:22.418649Z",
     "start_time": "2024-11-13T11:21:21.444227Z"
    }
   },
   "cell_type": "code",
   "source": [
    "mc.set_free_mode(1)\n",
    "print(mc.get_free_mode())"
   ],
   "id": "85d8eb84a3fbf089",
   "outputs": [
    {
     "ename": "AttributeError",
     "evalue": "'MyCobot280Socket' object has no attribute 'get_free_mode'",
     "output_type": "error",
     "traceback": [
      "\u001B[1;31m---------------------------------------------------------------------------\u001B[0m",
      "\u001B[1;31mAttributeError\u001B[0m                            Traceback (most recent call last)",
      "Cell \u001B[1;32mIn[11], line 2\u001B[0m\n\u001B[0;32m      1\u001B[0m mc\u001B[38;5;241m.\u001B[39mset_free_mode(\u001B[38;5;241m1\u001B[39m)\n\u001B[1;32m----> 2\u001B[0m \u001B[38;5;28mprint\u001B[39m(mc\u001B[38;5;241m.\u001B[39mget_free_mode())\n",
      "\u001B[1;31mAttributeError\u001B[0m: 'MyCobot280Socket' object has no attribute 'get_free_mode'"
     ]
    }
   ],
   "execution_count": 11
  },
  {
   "metadata": {
    "ExecuteTime": {
     "end_time": "2024-11-13T11:23:58.369409Z",
     "start_time": "2024-11-13T11:23:56.509245Z"
    }
   },
   "cell_type": "code",
   "source": [
    "mc.power_on()\n",
    "mc.release_all_servos()\n",
    "\n"
   ],
   "id": "17ef0d0fd837eb70",
   "outputs": [
    {
     "data": {
      "text/plain": [
       "-1"
      ]
     },
     "execution_count": 13,
     "metadata": {},
     "output_type": "execute_result"
    }
   ],
   "execution_count": 13
  },
  {
   "cell_type": "code",
   "id": "bc1c49e3-6a9b-4380-86d2-30c28538d89f",
   "metadata": {
    "ExecuteTime": {
     "end_time": "2024-11-12T14:34:13.151657Z",
     "start_time": "2024-11-12T14:34:13.131898Z"
    }
   },
   "source": "mc.power_on()\n",
   "outputs": [
    {
     "data": {
      "text/plain": [
       "[-73.6, -202.4, 89.8, 177.72, 5.64, -135.65]"
      ]
     },
     "execution_count": 79,
     "metadata": {},
     "output_type": "execute_result"
    }
   ],
   "execution_count": 79
  },
  {
   "cell_type": "code",
   "id": "11a5d770-3f66-4e2b-b800-43cc5ebe01f0",
   "metadata": {
    "ExecuteTime": {
     "end_time": "2024-11-12T14:33:19.446435Z",
     "start_time": "2024-11-12T14:33:19.443694Z"
    }
   },
   "source": "X = -73.6",
   "outputs": [],
   "execution_count": 72
  },
  {
   "cell_type": "code",
   "id": "b7d73aa4-5851-4076-8eb2-0a3d7eb5f5fe",
   "metadata": {
    "ExecuteTime": {
     "end_time": "2024-11-12T14:33:57.433658Z",
     "start_time": "2024-11-12T14:33:56.499706Z"
    }
   },
   "source": [
    "X -= 5\n",
    "mc.send_coord(1, X, 20)\n",
    "X"
   ],
   "outputs": [
    {
     "data": {
      "text/plain": [
       "-75"
      ]
     },
     "execution_count": 78,
     "metadata": {},
     "output_type": "execute_result"
    }
   ],
   "execution_count": 78
  },
  {
   "cell_type": "code",
   "id": "89aa31af-cbf2-4956-963e-4b52c963ad22",
   "metadata": {
    "ExecuteTime": {
     "end_time": "2024-11-12T14:35:34.046392Z",
     "start_time": "2024-11-12T14:35:34.044125Z"
    }
   },
   "source": "Y = -151",
   "outputs": [],
   "execution_count": 86
  },
  {
   "cell_type": "code",
   "id": "9ba5c4af-d773-4502-be4f-389b668434b8",
   "metadata": {
    "ExecuteTime": {
     "end_time": "2024-11-12T14:35:43.979403Z",
     "start_time": "2024-11-12T14:35:43.055381Z"
    }
   },
   "source": [
    "Y += 10\n",
    "mc.send_coord(2, Y, 20)\n",
    "Y"
   ],
   "outputs": [
    {
     "data": {
      "text/plain": [
       "-121"
      ]
     },
     "execution_count": 89,
     "metadata": {},
     "output_type": "execute_result"
    }
   ],
   "execution_count": 89
  },
  {
   "cell_type": "code",
   "id": "aa7273a2-f71f-4f18-b506-2e569a528a52",
   "metadata": {
    "ExecuteTime": {
     "end_time": "2024-11-12T14:36:52.308998Z",
     "start_time": "2024-11-12T14:36:52.306561Z"
    }
   },
   "source": "Z = 90",
   "outputs": [],
   "execution_count": 92
  },
  {
   "cell_type": "code",
   "id": "c1d972c3-e0ad-42b1-8d79-732ca3f46698",
   "metadata": {
    "ExecuteTime": {
     "end_time": "2024-11-12T14:38:02.234543Z",
     "start_time": "2024-11-12T14:38:01.302940Z"
    }
   },
   "source": [
    "Z -= 3\n",
    "mc.send_coord(3, Z, 20)"
   ],
   "outputs": [
    {
     "data": {
      "text/plain": [
       "-1"
      ]
     },
     "execution_count": 100,
     "metadata": {},
     "output_type": "execute_result"
    }
   ],
   "execution_count": 100
  },
  {
   "cell_type": "code",
   "id": "272219bc-a392-48a3-919f-ecb2b2e2df83",
   "metadata": {
    "ExecuteTime": {
     "end_time": "2024-11-12T15:08:22.398642Z",
     "start_time": "2024-11-12T15:08:22.378023Z"
    }
   },
   "source": [
    "mc.get_coords()"
   ],
   "outputs": [
    {
     "data": {
      "text/plain": [
       "[127.1, -77.8, 92.0, 178.15, 3.91, -135.81]"
      ]
     },
     "execution_count": 161,
     "metadata": {},
     "output_type": "execute_result"
    }
   ],
   "execution_count": 161
  },
  {
   "cell_type": "markdown",
   "id": "b8b8e64e-15e9-413d-a7a5-5516eb4f27a0",
   "metadata": {},
   "source": [
    "- 记下机械臂坐标\n",
    "[127.1, -77.8, 92.0, 178.15, 3.91, -135.81]"
   ]
  },
  {
   "cell_type": "code",
   "id": "3a74a39c-0d8f-4eab-8dba-210a14da941d",
   "metadata": {
    "ExecuteTime": {
     "end_time": "2024-10-23T09:19:44.923109Z",
     "start_time": "2024-10-23T09:19:44.896298Z"
    }
   },
   "source": [
    "# 第一个标定点的机械臂坐标\n",
    "cali_1_mc = 127.1, -77.8"
   ],
   "outputs": [],
   "execution_count": 108
  },
  {
   "cell_type": "markdown",
   "id": "7a19cf5b-0475-48f0-8369-d3622e3a47d9",
   "metadata": {},
   "source": [
    "## 第九步：控制机械臂，移动至右上角第二个标定点"
   ]
  },
  {
   "cell_type": "code",
   "id": "302660c2-197d-440c-b5cd-cbad116cc823",
   "metadata": {
    "ExecuteTime": {
     "end_time": "2024-11-13T08:50:55.118027Z",
     "start_time": "2024-11-13T08:50:55.115410Z"
    }
   },
   "source": [
    "# 第二个标定点的像素坐标\n",
    "cali_2_im = [493, 39]"
   ],
   "outputs": [],
   "execution_count": 46
  },
  {
   "cell_type": "code",
   "id": "1bb11271-3823-4089-8e61-63e9428dfe65",
   "metadata": {
    "ExecuteTime": {
     "end_time": "2024-11-12T14:43:33.740759Z",
     "start_time": "2024-11-12T14:43:31.815553Z"
    }
   },
   "source": [
    "# 机械臂归零\n",
    "mc.send_angles([0, 0, 0, 0, 0, 0], 40)\n",
    "time.sleep(1)"
   ],
   "outputs": [],
   "execution_count": 113
  },
  {
   "cell_type": "code",
   "id": "31c0630f-7620-4006-930d-fc15f6355423",
   "metadata": {
    "ExecuteTime": {
     "end_time": "2024-11-13T08:51:43.412327Z",
     "start_time": "2024-11-13T08:51:41.474937Z"
    }
   },
   "source": [
    "# 移动到第二个标定点附近\n",
    "mc.send_coords([-30, -255, 94.7, 178.92, 4.56, -135.57], 10)\n",
    "time.sleep(1)"
   ],
   "outputs": [],
   "execution_count": 51
  },
  {
   "cell_type": "code",
   "id": "490e1c10-14f6-4e76-b443-a5b1a14ebe9b",
   "metadata": {
    "ExecuteTime": {
     "end_time": "2024-11-13T08:51:56.226905Z",
     "start_time": "2024-11-13T08:51:56.201059Z"
    }
   },
   "source": [
    "mc.get_coords()"
   ],
   "outputs": [
    {
     "data": {
      "text/plain": [
       "[-32.1, -252.2, 84.2, 176.97, 6.3, -136.04]"
      ]
     },
     "execution_count": 52,
     "metadata": {},
     "output_type": "execute_result"
    }
   ],
   "execution_count": 52
  },
  {
   "cell_type": "code",
   "id": "d9207878-aab9-47e1-805c-570a050d0bef",
   "metadata": {
    "ExecuteTime": {
     "end_time": "2024-11-12T14:40:11.124742Z",
     "start_time": "2024-11-12T14:40:11.121994Z"
    }
   },
   "source": "Z = 90",
   "outputs": [],
   "execution_count": 105
  },
  {
   "cell_type": "code",
   "id": "0baab154-29c0-4bcc-bb86-09faf443f190",
   "metadata": {
    "ExecuteTime": {
     "end_time": "2024-11-12T14:40:19.172198Z",
     "start_time": "2024-11-12T14:40:17.235535Z"
    }
   },
   "source": [
    "Z -= 0\n",
    "mc.send_coord(3, Z, 20)\n",
    "time.sleep(1)"
   ],
   "outputs": [],
   "execution_count": 106
  },
  {
   "cell_type": "code",
   "id": "c9938a50-45ff-45ed-b921-4e2a7cdc410f",
   "metadata": {
    "ExecuteTime": {
     "end_time": "2024-11-12T14:43:47.229793Z",
     "start_time": "2024-11-12T14:43:47.152535Z"
    }
   },
   "source": [
    "mc.get_coords()"
   ],
   "outputs": [
    {
     "data": {
      "text/plain": [
       "[104.6, -250.8, 85.2, 178.71, 3.29, -136.05]"
      ]
     },
     "execution_count": 115,
     "metadata": {},
     "output_type": "execute_result"
    }
   ],
   "execution_count": 115
  },
  {
   "cell_type": "code",
   "id": "938e7cdd-1eb4-4614-bfe9-90bf4a91e5ac",
   "metadata": {
    "ExecuteTime": {
     "end_time": "2024-11-12T14:43:57.605893Z",
     "start_time": "2024-11-12T14:43:57.603068Z"
    }
   },
   "source": "X = 110",
   "outputs": [],
   "execution_count": 116
  },
  {
   "cell_type": "code",
   "id": "f626d705-b961-4ac0-9ccb-66f504a90b57",
   "metadata": {
    "ExecuteTime": {
     "end_time": "2024-11-12T14:44:18.895951Z",
     "start_time": "2024-11-12T14:44:16.951878Z"
    }
   },
   "source": [
    "X -= 0\n",
    "mc.send_coord(1, X, 20)\n",
    "time.sleep(1)"
   ],
   "outputs": [],
   "execution_count": 120
  },
  {
   "cell_type": "code",
   "id": "caeff852-c1e6-439b-9470-5f4302d7ff3f",
   "metadata": {
    "ExecuteTime": {
     "end_time": "2024-11-12T14:44:44.355028Z",
     "start_time": "2024-11-12T14:44:44.352928Z"
    }
   },
   "source": "Y = -249.4",
   "outputs": [],
   "execution_count": 122
  },
  {
   "cell_type": "code",
   "id": "c7c9a855-b2f1-482e-9b6b-094620e01392",
   "metadata": {
    "ExecuteTime": {
     "end_time": "2024-11-12T14:44:47.235506Z",
     "start_time": "2024-11-12T14:44:45.306418Z"
    }
   },
   "source": [
    "Y += 5 \n",
    "mc.send_coord(2, Y, 20)\n",
    "time.sleep(1)"
   ],
   "outputs": [],
   "execution_count": 123
  },
  {
   "cell_type": "code",
   "id": "71505d9b-1cd5-4aed-bd95-1944bb39be9b",
   "metadata": {
    "ExecuteTime": {
     "end_time": "2024-11-12T15:12:31.474106Z",
     "start_time": "2024-11-12T15:12:31.457521Z"
    }
   },
   "source": [
    "mc.get_coords()"
   ],
   "outputs": [
    {
     "data": {
      "text/plain": [
       "[-63.4, -252.8, 87.9, 177.6, 5.79, -135.24]"
      ]
     },
     "execution_count": 171,
     "metadata": {},
     "output_type": "execute_result"
    }
   ],
   "execution_count": 171
  },
  {
   "cell_type": "code",
   "execution_count": 72,
   "id": "b6042efb-9534-49af-b71f-65d1fa3d0473",
   "metadata": {},
   "outputs": [],
   "source": [
    "# 第二个标定点的机械臂坐标\n",
    "cali_2_mc = [-63.4, -252.8]"
   ]
  },
  {
   "metadata": {
    "ExecuteTime": {
     "end_time": "2024-11-12T15:12:37.859008Z",
     "start_time": "2024-11-12T15:12:37.855268Z"
    }
   },
   "cell_type": "code",
   "source": "[-63.4, -252.8, 87.9, 177.6, 5.79, -135.24]",
   "id": "d562c52458be082a",
   "outputs": [
    {
     "data": {
      "text/plain": [
       "[-63.4, -252.8, 87.9, 177.6, 5.79, -135.24]"
      ]
     },
     "execution_count": 172,
     "metadata": {},
     "output_type": "execute_result"
    }
   ],
   "execution_count": 172
  },
  {
   "metadata": {},
   "cell_type": "code",
   "outputs": [],
   "execution_count": null,
   "source": [
    "cali_1_im = [45, 379]\n",
    "cali_1_mc = []\n",
    "cali_2_im = [524, 10]\n",
    "cali_2_mc = []"
   ],
   "id": "bb92f6da950cb4b5"
  },
  {
   "metadata": {
    "ExecuteTime": {
     "end_time": "2024-11-13T11:27:43.740592Z",
     "start_time": "2024-11-13T11:27:43.737112Z"
    }
   },
   "cell_type": "code",
   "source": "print(mc.get_coords())",
   "id": "c541647323ea7dad",
   "outputs": [
    {
     "name": "stdout",
     "output_type": "stream",
     "text": [
      "[15.3, -162.5, 206.5, 175.02, 3.86, -137.75]\n"
     ]
    }
   ],
   "execution_count": 23
  },
  {
   "cell_type": "markdown",
   "id": "f7d0bce1-225d-4f90-a7cb-72bfe2255e3b",
   "metadata": {},
   "source": [
    "## 第十步：通过插值，获取图像任意像素坐标对应的机械臂坐标"
   ]
  },
  {
   "cell_type": "code",
   "id": "7fb7057b-0936-41fb-8034-87d686cbcc48",
   "metadata": {
    "ExecuteTime": {
     "end_time": "2024-11-13T12:50:30.399823Z",
     "start_time": "2024-11-13T12:50:30.397549Z"
    }
   },
   "source": [
    "# 整理两个标定点的坐标\n",
    "cali_1_im = [64, 434]                       # 左下角，第一个标定点的像素坐标，要手动填！\n",
    "cali_1_mc = [122.4, -98.0]                  # 左下角，第一个标定点的机械臂坐标，要手动填！\n",
    "cali_2_im = [442, 20]                         # 右上角，第二个标定点的像素坐标\n",
    "cali_2_mc = [-33.7, -271.3]                   # 右上角，第二个标定点的机械臂坐标，要手动填！"
   ],
   "outputs": [],
   "execution_count": 30
  },
  {
   "metadata": {
    "ExecuteTime": {
     "end_time": "2024-11-13T13:03:31.444551Z",
     "start_time": "2024-11-13T13:03:30.507561Z"
    }
   },
   "cell_type": "code",
   "source": "mc.send_angles([-79.1, -3.33, -84.28, 0, 1.49, -33.48], 20)",
   "id": "a7a95c5d57fd00e5",
   "outputs": [
    {
     "data": {
      "text/plain": [
       "-1"
      ]
     },
     "execution_count": 61,
     "metadata": {},
     "output_type": "execute_result"
    }
   ],
   "execution_count": 61
  },
  {
   "metadata": {
    "ExecuteTime": {
     "end_time": "2024-11-13T13:18:30.926026Z",
     "start_time": "2024-11-13T13:18:29.984693Z"
    }
   },
   "cell_type": "code",
   "source": "mc.power_off()",
   "id": "a3a232cae7db910f",
   "outputs": [
    {
     "data": {
      "text/plain": [
       "-1"
      ]
     },
     "execution_count": 7,
     "metadata": {},
     "output_type": "execute_result"
    }
   ],
   "execution_count": 7
  },
  {
   "metadata": {
    "ExecuteTime": {
     "end_time": "2024-11-13T13:19:04.302470Z",
     "start_time": "2024-11-13T13:19:03.379336Z"
    }
   },
   "cell_type": "code",
   "source": "mc.power_on()",
   "id": "e31bb5501cddd05b",
   "outputs": [
    {
     "data": {
      "text/plain": [
       "-1"
      ]
     },
     "execution_count": 8,
     "metadata": {},
     "output_type": "execute_result"
    }
   ],
   "execution_count": 8
  },
  {
   "metadata": {
    "ExecuteTime": {
     "end_time": "2024-11-13T13:19:06.021668Z",
     "start_time": "2024-11-13T13:19:05.998907Z"
    }
   },
   "cell_type": "code",
   "source": "print(mc.get_coords())",
   "id": "5572c4488c4a59c",
   "outputs": [
    {
     "name": "stdout",
     "output_type": "stream",
     "text": [
      "[-33.7, -271.3, 85.7, 179.52, -1.62, -135.88]\n"
     ]
    }
   ],
   "execution_count": 9
  },
  {
   "cell_type": "code",
   "id": "61655532-e4b0-4c56-84f8-ca3704d7308e",
   "metadata": {
    "ExecuteTime": {
     "end_time": "2024-11-12T15:13:45.354064Z",
     "start_time": "2024-11-12T15:13:45.351938Z"
    }
   },
   "source": [
    "p# 指定点在图像中的像素坐标\n",
    "X_im = 409\n",
    "Y_im = 248"
   ],
   "outputs": [],
   "execution_count": 175
  },
  {
   "cell_type": "code",
   "id": "4c32b19d-995c-4433-9670-043f8b7613f1",
   "metadata": {
    "ExecuteTime": {
     "end_time": "2024-11-12T15:13:48.858439Z",
     "start_time": "2024-11-12T15:13:48.854762Z"
    }
   },
   "source": [
    "X_cali_im = [cali_1_im[0], cali_2_im[0]]     # 像素坐标\n",
    "X_cali_mc = [cali_1_mc[0], cali_2_mc[0]]     # 机械臂坐标\n",
    "\n",
    "X_mc = int(np.interp(X_im, X_cali_im, X_cali_mc))\n",
    "\n",
    "Y_cali_im = [cali_2_im[1], cali_1_im[1]]     # 像素坐标，先小后大\n",
    "Y_cali_mc = [cali_2_mc[1], cali_1_mc[1]]     # 机械臂坐标，先大后小\n",
    "\n",
    "Y_mc = int(np.interp(Y_im, Y_cali_im, Y_cali_mc))"
   ],
   "outputs": [],
   "execution_count": 176
  },
  {
   "cell_type": "code",
   "id": "96d1501f-a689-42f2-b54c-1d54b3437010",
   "metadata": {
    "ExecuteTime": {
     "end_time": "2024-11-12T15:13:50.614693Z",
     "start_time": "2024-11-12T15:13:50.611686Z"
    }
   },
   "source": [
    "X_mc"
   ],
   "outputs": [
    {
     "data": {
      "text/plain": [
       "33"
      ]
     },
     "execution_count": 177,
     "metadata": {},
     "output_type": "execute_result"
    }
   ],
   "execution_count": 177
  },
  {
   "cell_type": "code",
   "id": "3af491e2-8c7e-40ef-bf12-25d6f4fe1cb7",
   "metadata": {
    "ExecuteTime": {
     "end_time": "2024-11-12T15:13:52.027866Z",
     "start_time": "2024-11-12T15:13:52.025053Z"
    }
   },
   "source": [
    "Y_mc"
   ],
   "outputs": [
    {
     "data": {
      "text/plain": [
       "-159"
      ]
     },
     "execution_count": 178,
     "metadata": {},
     "output_type": "execute_result"
    }
   ],
   "execution_count": 178
  },
  {
   "cell_type": "markdown",
   "id": "bc995043-f07f-47df-b9ae-3120b5bf4253",
   "metadata": {},
   "source": [
    "## 让机械臂移动至该点吸取"
   ]
  },
  {
   "cell_type": "code",
   "id": "9eddbc0c-3247-412d-b291-0c9c704d2dd3",
   "metadata": {
    "ExecuteTime": {
     "end_time": "2024-11-12T15:13:58.216866Z",
     "start_time": "2024-11-12T15:13:54.281332Z"
    }
   },
   "source": [
    "mc.send_coords([X_mc, Y_mc, 200, -178.24, 1.68, -134.33], 20)\n",
    "time.sleep(3)"
   ],
   "outputs": [],
   "execution_count": 179
  },
  {
   "cell_type": "code",
   "id": "fb08a954-ee74-4db9-8504-c5cead7f371a",
   "metadata": {
    "ExecuteTime": {
     "end_time": "2024-10-23T09:27:20.951796Z",
     "start_time": "2024-10-23T09:27:16.348671Z"
    }
   },
   "source": [
    "# 机械臂归零\n",
    "mc.send_angles([0, 0, 0, 0, 0, 0], 40)\n",
    "time.sleep(3)"
   ],
   "outputs": [],
   "execution_count": 143
  },
  {
   "cell_type": "markdown",
   "id": "5c86bde9-379b-42ed-bb1e-c1271b148427",
   "metadata": {},
   "source": [
    "## 封装手眼标定函数"
   ]
  },
  {
   "cell_type": "code",
   "id": "057a98f6-7207-438b-b6fc-dfdff480c481",
   "metadata": {
    "ExecuteTime": {
     "end_time": "2024-11-12T15:14:41.929391Z",
     "start_time": "2024-11-12T15:14:41.924651Z"
    }
   },
   "source": [
    "import numpy as np\n",
    "def eye2hand(X_im=160, Y_im=120):\n",
    "    '''\n",
    "    输入目标点在图像中的像素坐标，转换为机械臂坐标\n",
    "    '''\n",
    "\n",
    "    # 整理两个标定点的坐标\n",
    "    cali_1_im = [63, 409]                       # 左下角，第一个标定点的像素坐标，要手动填！\n",
    "    cali_1_mc = [127.1, -77.8]                  # 左下角，第一个标定点的机械臂坐标，要手动填！\n",
    "    cali_2_im = [493, 39]                         # 右上角，第二个标定点的像素坐标\n",
    "    cali_2_mc = [-63.4, -252.8]                   # 右上角，第二个标定点的机械臂坐标，要手动填！\n",
    "    \n",
    "    X_cali_im = [cali_1_im[0], cali_2_im[0]]     # 像素坐标\n",
    "    X_cali_mc = [cali_1_mc[0], cali_2_mc[0]]     # 机械臂坐标\n",
    "    Y_cali_im = [cali_2_im[1], cali_1_im[1]]     # 像素坐标，先小后大\n",
    "    Y_cali_mc = [cali_2_mc[1], cali_1_mc[1]]     # 机械臂坐标，先大后小\n",
    "\n",
    "    # X差值\n",
    "    X_mc = int(np.interp(X_im, X_cali_im, X_cali_mc))\n",
    "\n",
    "    # Y差值\n",
    "    Y_mc = int(np.interp(Y_im, Y_cali_im, Y_cali_mc))\n",
    "\n",
    "    return X_mc, Y_mc"
   ],
   "outputs": [],
   "execution_count": 180
  },
  {
   "cell_type": "code",
   "id": "c6810bb1-2455-41b5-aad3-62967f67dc75",
   "metadata": {
    "ExecuteTime": {
     "end_time": "2024-11-12T15:15:03.843794Z",
     "start_time": "2024-11-12T15:15:03.840674Z"
    }
   },
   "source": "eye2hand(X_im=304, Y_im=77)",
   "outputs": [],
   "execution_count": 182
  },
  {
   "cell_type": "code",
   "execution_count": 81,
   "id": "777a657f-1ab6-4439-85da-62ad1b0f79df",
   "metadata": {},
   "outputs": [
    {
     "data": {
      "text/plain": [
       "(66, -173)"
      ]
     },
     "execution_count": 81,
     "metadata": {},
     "output_type": "execute_result"
    }
   ],
   "source": [
    "eye2hand(X_im=320, Y_im=240)"
   ]
  },
  {
   "cell_type": "markdown",
   "id": "55d96721-b3ce-4894-bb26-cc7b021c0ddc",
   "metadata": {},
   "source": [
    "## 第十一步：验证标定效果"
   ]
  },
  {
   "cell_type": "code",
   "execution_count": 82,
   "id": "e343e943-933b-43d1-9e41-00afcc59f9a3",
   "metadata": {},
   "outputs": [],
   "source": [
    "# 机械臂归零\n",
    "mc.send_angles([0, 0, 0, 0, 0, 0], 40)\n",
    "time.sleep(3)"
   ]
  },
  {
   "cell_type": "code",
   "id": "54c57f03-9af3-4124-9d21-0d363dd250bf",
   "metadata": {
    "ExecuteTime": {
     "end_time": "2024-11-12T15:16:05.461643Z",
     "start_time": "2024-11-12T15:16:01.519103Z"
    }
   },
   "source": [
    "# 移动至俯视姿态\n",
    "mc.send_angles([-62.13, 8.96, -87.71, -10.41, 2.54, -16.34], 20)\n",
    "time.sleep(3)"
   ],
   "outputs": [],
   "execution_count": 184
  },
  {
   "cell_type": "code",
   "id": "cfee14e0-1fc4-4c69-be6a-9b39cf49a7e4",
   "metadata": {
    "ExecuteTime": {
     "end_time": "2024-11-12T14:14:08.443068Z",
     "start_time": "2024-11-12T14:14:08.440515Z"
    }
   },
   "source": [
    "# 运行`camera_check.py`，用鼠标点选图像中的某个点，获取像素坐标\n",
    "X_im, Y_im = 267, 97"
   ],
   "outputs": [],
   "execution_count": 36
  },
  {
   "cell_type": "code",
   "id": "22178096-dd19-47d9-9355-adbed0d6a175",
   "metadata": {
    "ExecuteTime": {
     "end_time": "2024-11-12T14:14:09.685355Z",
     "start_time": "2024-11-12T14:14:09.681795Z"
    }
   },
   "source": [
    "# 手眼标定转换为机械臂坐标\n",
    "X_mc, Y_mc = eye2hand(X_im, Y_im)"
   ],
   "outputs": [],
   "execution_count": 37
  },
  {
   "cell_type": "code",
   "id": "fb7a11fc-037b-472a-b4c6-30cf3481d012",
   "metadata": {
    "ExecuteTime": {
     "end_time": "2024-11-12T15:15:16.937817Z",
     "start_time": "2024-11-12T15:15:13.003339Z"
    }
   },
   "source": [
    "# 控制机械臂移动到这个点，看是否准确\n",
    "mc.send_coords([X_mc, Y_mc, 100, -178.24, 1.68, -134.33], 20)\n",
    "time.sleep(3)"
   ],
   "outputs": [],
   "execution_count": 183
  },
  {
   "cell_type": "code",
   "execution_count": null,
   "id": "e962d3c8-9ecf-45db-8a82-13abd582fb9e",
   "metadata": {},
   "outputs": [],
   "source": []
  }
 ],
 "metadata": {
  "kernelspec": {
   "display_name": "Python 3 (ipykernel)",
   "language": "python",
   "name": "python3"
  },
  "language_info": {
   "codemirror_mode": {
    "name": "ipython",
    "version": 3
   },
   "file_extension": ".py",
   "mimetype": "text/x-python",
   "name": "python",
   "nbconvert_exporter": "python",
   "pygments_lexer": "ipython3",
   "version": "3.12.3"
  }
 },
 "nbformat": 4,
 "nbformat_minor": 5
}
